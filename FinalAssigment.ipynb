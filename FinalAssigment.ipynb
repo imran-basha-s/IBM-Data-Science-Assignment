{
  "metadata": {
    "language_info": {
      "codemirror_mode": {
        "name": "python",
        "version": 3
      },
      "file_extension": ".py",
      "mimetype": "text/x-python",
      "name": "python",
      "nbconvert_exporter": "python",
      "pygments_lexer": "ipython3",
      "version": "3.8"
    },
    "kernelspec": {
      "name": "python",
      "display_name": "Pyolite",
      "language": "python"
    }
  },
  "nbformat_minor": 4,
  "nbformat": 4,
  "cells": [
    {
      "cell_type": "markdown",
      "source": "# My Jupiter Notebook on IBM Watson Studio",
      "metadata": {}
    },
    {
      "cell_type": "markdown",
      "source": "IMRAN BASHA S\n\nContent Writer",
      "metadata": {}
    },
    {
      "cell_type": "markdown",
      "source": "*I am interested in Data Science because I like the kind of scope it provides in problem solving and specifically taking informed decisons*",
      "metadata": {}
    },
    {
      "cell_type": "markdown",
      "source": "### Output greeting as \"Hello World\"",
      "metadata": {}
    },
    {
      "cell_type": "code",
      "source": "print(\"Hello World\")",
      "metadata": {
        "trusted": true
      },
      "execution_count": 4,
      "outputs": [
        {
          "name": "stdout",
          "text": "Hello World\n",
          "output_type": "stream"
        }
      ]
    },
    {
      "cell_type": "markdown",
      "source": "- This is a bulleted list\n- I am creating a bulleted, numbered list, and a table using Markdown\n\n1. This is a \n\n2. numbered list\n\n| header | header |\n| ------ | ------ |\n| cell | cell |\n| ------ | ------ |\n| cell | cell |",
      "metadata": {}
    },
    {
      "cell_type": "code",
      "source": "",
      "metadata": {},
      "execution_count": null,
      "outputs": []
    }
  ]
}